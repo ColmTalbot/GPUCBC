{
  "nbformat": 4,
  "nbformat_minor": 0,
  "metadata": {
    "colab": {
      "name": "gpucbc.ipynb",
      "version": "0.3.2",
      "provenance": [],
      "collapsed_sections": [],
      "include_colab_link": true
    },
    "kernelspec": {
      "name": "python3",
      "display_name": "Python 3"
    },
    "accelerator": "GPU"
  },
  "cells": [
    {
      "cell_type": "markdown",
      "metadata": {
        "id": "view-in-github",
        "colab_type": "text"
      },
      "source": [
        "<a href=\"https://colab.research.google.com/github/ColmTalbot/GPUCBC/blob/master/examples/gpucbc.ipynb\" target=\"_parent\"><img src=\"https://colab.research.google.com/assets/colab-badge.svg\" alt=\"Open In Colab\"/></a>"
      ]
    },
    {
      "cell_type": "markdown",
      "metadata": {
        "id": "kZqiPKdQD8bk",
        "colab_type": "text"
      },
      "source": [
        "# GPU-enabled parameter estimation for compact binary coalescences\n",
        "\n",
        "In this notebook I demonstrate how to use the `GPUCBC` package to perform parameter estimation on very long duration binary neutron star inspirals.\n",
        "\n",
        "See the [paper](https://arxiv.org/abs/1904.02863) and [repository](https://github.com/ColmTalbot/GPUCBC) for more details.\n",
        "\n",
        "In this example we will use the implementation of the `TaylorF2` waveform which implements the post-Newtonian expansion for the inspiral of a binary neutron star system including aligned spins and the effect of tidal deformation.\n",
        "\n",
        "Even with the GPU acceleration the contents of this notebook will take up to a day to run."
      ]
    },
    {
      "cell_type": "markdown",
      "metadata": {
        "id": "2mRsRNKlC_B-",
        "colab_type": "text"
      },
      "source": [
        "# Install requirements\n",
        "\n",
        "For this example we'll need to install `GPUCBC` from git and `cupy` which is not listed as a requirement.\n",
        "\n",
        "This will install the dependencies of `GPUCBC` including:\n",
        "- `lalsuite` for the post-Newtonian coefficients for our waveform.\n",
        "- `bilby` for interfacing with samplers for Bayesian inference.\n",
        "- `dynesty` the nested sampler we'll use in this example."
      ]
    },
    {
      "cell_type": "code",
      "metadata": {
        "id": "vcrpSgHoxgBb",
        "colab_type": "code",
        "outputId": "c969cfde-9423-445e-c7e0-c730685adebd",
        "colab": {
          "base_uri": "https://localhost:8080/",
          "height": 1000
        }
      },
      "source": [
        "!pip install --upgrade git+https://github.com/ColmTalbot/GPUCBC.git\n",
        "!pip install cupy --no-cache-dir"
      ],
      "execution_count": 1,
      "outputs": [
        {
          "output_type": "stream",
          "text": [
            "Collecting git+https://github.com/ColmTalbot/GPUCBC.git\n",
            "  Cloning https://github.com/ColmTalbot/GPUCBC.git to /tmp/pip-req-build-tu9cyxxo\n",
            "  Running command git clone -q https://github.com/ColmTalbot/GPUCBC.git /tmp/pip-req-build-tu9cyxxo\n",
            "Requirement already satisfied, skipping upgrade: numpy in /usr/local/lib/python3.6/dist-packages (from gpucbc==0.1.0) (1.16.4)\n",
            "Requirement already satisfied, skipping upgrade: astropy in /usr/local/lib/python3.6/dist-packages (from gpucbc==0.1.0) (3.0.5)\n",
            "Collecting bilby (from gpucbc==0.1.0)\n",
            "\u001b[?25l  Downloading https://files.pythonhosted.org/packages/d7/cb/b2bf9e0b5442e40241267f6d4255745d361da90d2bdd12575722a1c044d5/bilby-0.5.3.tar.gz (1.5MB)\n",
            "\u001b[K     |████████████████████████████████| 1.5MB 4.0MB/s \n",
            "\u001b[?25hCollecting lalsuite (from gpucbc==0.1.0)\n",
            "\u001b[?25l  Downloading https://files.pythonhosted.org/packages/b5/5a/7228e8392198e50f66aad9a212b6ab8971ee5c5cdd07ad05f746f4fd7157/lalsuite-6.60-cp36-cp36m-manylinux1_x86_64.whl (30.3MB)\n",
            "\u001b[K     |████████████████████████████████| 30.3MB 41.6MB/s \n",
            "\u001b[?25hRequirement already satisfied, skipping upgrade: future in /usr/local/lib/python3.6/dist-packages (from bilby->gpucbc==0.1.0) (0.16.0)\n",
            "Collecting dynesty>=0.9.7 (from bilby->gpucbc==0.1.0)\n",
            "\u001b[?25l  Downloading https://files.pythonhosted.org/packages/40/0b/78555fafdbfe9f13771fbedfd0aacf574c4eaf4325ba932c93fa883daa1b/dynesty-0.9.7-py2.py3-none-any.whl (82kB)\n",
            "\u001b[K     |████████████████████████████████| 92kB 29.3MB/s \n",
            "\u001b[?25hCollecting corner (from bilby->gpucbc==0.1.0)\n",
            "  Downloading https://files.pythonhosted.org/packages/65/af/a7ba022f2d5787f51db91b5550cbe8e8c40a6eebd8f15119e743a09a9c19/corner-2.0.1.tar.gz\n",
            "Requirement already satisfied, skipping upgrade: dill in /usr/local/lib/python3.6/dist-packages (from bilby->gpucbc==0.1.0) (0.3.0)\n",
            "Requirement already satisfied, skipping upgrade: matplotlib>=2.0 in /usr/local/lib/python3.6/dist-packages (from bilby->gpucbc==0.1.0) (3.0.3)\n",
            "Requirement already satisfied, skipping upgrade: pandas in /usr/local/lib/python3.6/dist-packages (from bilby->gpucbc==0.1.0) (0.24.2)\n",
            "Requirement already satisfied, skipping upgrade: scipy in /usr/local/lib/python3.6/dist-packages (from bilby->gpucbc==0.1.0) (1.3.0)\n",
            "Collecting lscsoft-glue (from lalsuite->gpucbc==0.1.0)\n",
            "\u001b[?25l  Downloading https://files.pythonhosted.org/packages/3b/65/e93853bc1876516db8d58f4590dba1d6b85eaf9d1bd375926ac7897e525a/lscsoft-glue-2.0.0.tar.gz (1.6MB)\n",
            "\u001b[K     |████████████████████████████████| 1.6MB 37.0MB/s \n",
            "\u001b[?25hCollecting ligo-segments (from lalsuite->gpucbc==0.1.0)\n",
            "\u001b[?25l  Downloading https://files.pythonhosted.org/packages/62/cd/225e331e95cf6aff8ba13bf9a8053b29248a5e71f7fa9bbb1f0db1eaadff/ligo-segments-1.2.0.tar.gz (48kB)\n",
            "\u001b[K     |████████████████████████████████| 51kB 20.2MB/s \n",
            "\u001b[?25hRequirement already satisfied, skipping upgrade: python-dateutil in /usr/local/lib/python3.6/dist-packages (from lalsuite->gpucbc==0.1.0) (2.5.3)\n",
            "Requirement already satisfied, skipping upgrade: six in /usr/local/lib/python3.6/dist-packages (from dynesty>=0.9.7->bilby->gpucbc==0.1.0) (1.12.0)\n",
            "Requirement already satisfied, skipping upgrade: cycler>=0.10 in /usr/local/lib/python3.6/dist-packages (from matplotlib>=2.0->bilby->gpucbc==0.1.0) (0.10.0)\n",
            "Requirement already satisfied, skipping upgrade: kiwisolver>=1.0.1 in /usr/local/lib/python3.6/dist-packages (from matplotlib>=2.0->bilby->gpucbc==0.1.0) (1.1.0)\n",
            "Requirement already satisfied, skipping upgrade: pyparsing!=2.0.4,!=2.1.2,!=2.1.6,>=2.0.1 in /usr/local/lib/python3.6/dist-packages (from matplotlib>=2.0->bilby->gpucbc==0.1.0) (2.4.0)\n",
            "Requirement already satisfied, skipping upgrade: pytz>=2011k in /usr/local/lib/python3.6/dist-packages (from pandas->bilby->gpucbc==0.1.0) (2018.9)\n",
            "Collecting pyOpenSSL (from lscsoft-glue->lalsuite->gpucbc==0.1.0)\n",
            "\u001b[?25l  Downloading https://files.pythonhosted.org/packages/01/c8/ceb170d81bd3941cbeb9940fc6cc2ef2ca4288d0ca8929ea4db5905d904d/pyOpenSSL-19.0.0-py2.py3-none-any.whl (53kB)\n",
            "\u001b[K     |████████████████████████████████| 61kB 30.4MB/s \n",
            "\u001b[?25hRequirement already satisfied, skipping upgrade: setuptools in /usr/local/lib/python3.6/dist-packages (from kiwisolver>=1.0.1->matplotlib>=2.0->bilby->gpucbc==0.1.0) (41.0.1)\n",
            "Collecting cryptography>=2.3 (from pyOpenSSL->lscsoft-glue->lalsuite->gpucbc==0.1.0)\n",
            "\u001b[?25l  Downloading https://files.pythonhosted.org/packages/97/18/c6557f63a6abde34707196fb2cad1c6dc0dbff25a200d5044922496668a4/cryptography-2.7-cp34-abi3-manylinux1_x86_64.whl (2.3MB)\n",
            "\u001b[K     |████████████████████████████████| 2.3MB 34.9MB/s \n",
            "\u001b[?25hRequirement already satisfied, skipping upgrade: cffi!=1.11.3,>=1.8 in /usr/local/lib/python3.6/dist-packages (from cryptography>=2.3->pyOpenSSL->lscsoft-glue->lalsuite->gpucbc==0.1.0) (1.12.3)\n",
            "Collecting asn1crypto>=0.21.0 (from cryptography>=2.3->pyOpenSSL->lscsoft-glue->lalsuite->gpucbc==0.1.0)\n",
            "\u001b[?25l  Downloading https://files.pythonhosted.org/packages/ea/cd/35485615f45f30a510576f1a56d1e0a7ad7bd8ab5ed7cdc600ef7cd06222/asn1crypto-0.24.0-py2.py3-none-any.whl (101kB)\n",
            "\u001b[K     |████████████████████████████████| 102kB 27.9MB/s \n",
            "\u001b[?25hRequirement already satisfied, skipping upgrade: pycparser in /usr/local/lib/python3.6/dist-packages (from cffi!=1.11.3,>=1.8->cryptography>=2.3->pyOpenSSL->lscsoft-glue->lalsuite->gpucbc==0.1.0) (2.19)\n",
            "Building wheels for collected packages: gpucbc, bilby, corner, lscsoft-glue, ligo-segments\n",
            "  Building wheel for gpucbc (setup.py) ... \u001b[?25l\u001b[?25hdone\n",
            "  Stored in directory: /tmp/pip-ephem-wheel-cache-g6i8vg7c/wheels/95/14/80/0a84970a2145273710adbfc549096aaa71c4502186256178fe\n",
            "  Building wheel for bilby (setup.py) ... \u001b[?25l\u001b[?25hdone\n",
            "  Stored in directory: /root/.cache/pip/wheels/8e/52/62/b1f40616bad4daa942230b41fcf53800e9460a82ea3c4e43d9\n",
            "  Building wheel for corner (setup.py) ... \u001b[?25l\u001b[?25hdone\n",
            "  Stored in directory: /root/.cache/pip/wheels/70/d8/e5/e0e7974a2a5757483ea5a180c937041cf6872dc9993d78234a\n",
            "  Building wheel for lscsoft-glue (setup.py) ... \u001b[?25l\u001b[?25hdone\n",
            "  Stored in directory: /root/.cache/pip/wheels/aa/fa/38/d61b002c627ca54f03755b9a288f4b1fa83291608a4bc47b7b\n",
            "  Building wheel for ligo-segments (setup.py) ... \u001b[?25l\u001b[?25hdone\n",
            "  Stored in directory: /root/.cache/pip/wheels/5d/1e/4a/ab4122baed7d67f6abce65b2b12049d3bc7fe5dad24edf89df\n",
            "Successfully built gpucbc bilby corner lscsoft-glue ligo-segments\n",
            "Installing collected packages: dynesty, corner, bilby, asn1crypto, cryptography, pyOpenSSL, ligo-segments, lscsoft-glue, lalsuite, gpucbc\n",
            "Successfully installed asn1crypto-0.24.0 bilby-0.5.3 corner-2.0.1 cryptography-2.7 dynesty-0.9.7 gpucbc-0.1.0 lalsuite-6.60 ligo-segments-1.2.0 lscsoft-glue-2.0.0 pyOpenSSL-19.0.0\n",
            "Collecting cupy\n",
            "\u001b[?25l  Downloading https://files.pythonhosted.org/packages/4d/08/2b25443d31ea34cdd259a689d67bc20f19df0c079e1f517ca1bd5bd7e6e2/cupy-6.2.0.tar.gz (3.1MB)\n",
            "\u001b[K     |████████████████████████████████| 3.1MB 4.9MB/s \n",
            "\u001b[?25hRequirement already satisfied: numpy>=1.9.0 in /usr/local/lib/python3.6/dist-packages (from cupy) (1.16.4)\n",
            "Requirement already satisfied: six>=1.9.0 in /usr/local/lib/python3.6/dist-packages (from cupy) (1.12.0)\n",
            "Requirement already satisfied: fastrlock>=0.3 in /usr/local/lib/python3.6/dist-packages (from cupy) (0.4)\n",
            "Building wheels for collected packages: cupy\n",
            "  Building wheel for cupy (setup.py) ... \u001b[?25l\u001b[?25hdone\n",
            "  Stored in directory: /tmp/pip-ephem-wheel-cache-tw_s6mm0/wheels/88/ee/ed/4b7d86efc252bb757081e4e20233aed65d5638d2c1762bc75f\n",
            "Successfully built cupy\n",
            "Installing collected packages: cupy\n",
            "Successfully installed cupy-6.2.0\n"
          ],
          "name": "stdout"
        }
      ]
    },
    {
      "cell_type": "markdown",
      "metadata": {
        "id": "00vmQo7yD2xT",
        "colab_type": "text"
      },
      "source": [
        "# Imports"
      ]
    },
    {
      "cell_type": "code",
      "metadata": {
        "id": "YSWjdxjCxp1R",
        "colab_type": "code",
        "outputId": "640a4d01-19cb-4767-d520-ab71a2b4d80f",
        "colab": {
          "base_uri": "https://localhost:8080/",
          "height": 98
        }
      },
      "source": [
        "%pylab inline\n",
        "\n",
        "import cupy as xp\n",
        "\n",
        "import bilby\n",
        "\n",
        "from gpucbc.likelihood import CUPYGravitationalWaveTransient\n",
        "from gpucbc.waveforms import TF2WFG"
      ],
      "execution_count": 2,
      "outputs": [
        {
          "output_type": "stream",
          "text": [
            "Populating the interactive namespace from numpy and matplotlib\n"
          ],
          "name": "stdout"
        },
        {
          "output_type": "stream",
          "text": [
            "05:24 bilby INFO    : Running bilby version: 0.5.3:\n",
            "05:24 bilby WARNING : You do not have gwpy installed currently. You will  not be able to use some of the prebuilt functions.\n",
            "05:24 bilby WARNING : You do not have gwpy installed currently. You will  not be able to use some of the prebuilt functions.\n",
            "05:24 bilby WARNING : You do not have gwpy installed currently. You will  not be able to use some of the prebuilt functions.\n"
          ],
          "name": "stderr"
        }
      ]
    },
    {
      "cell_type": "markdown",
      "metadata": {
        "id": "Bexew22DYIie",
        "colab_type": "text"
      },
      "source": [
        "# Define the system we are going to analyse\n",
        "\n",
        "For demonstration purposes we will simulate a binary neutron inspiral.\n",
        "\n",
        "This is the usual `bilby` operation of creating a `WaveformGenerator` and `Interferometer` objects.\n",
        "\n",
        "Here our `WaveformGenerator` comes from `gpucbc`.\n",
        "Since the injection requires numpy arrays to be used we explicitly cast the signal to be injected to a numpy array.\n",
        "\n",
        "We inject into zero noise in order to demonstrate that the analysis is unbiased in this case where we know the maximum likelihood point should be the true value."
      ]
    },
    {
      "cell_type": "code",
      "metadata": {
        "id": "7A1tlzg6MT_Z",
        "colab_type": "code",
        "colab": {
          "base_uri": "https://localhost:8080/",
          "height": 797
        },
        "outputId": "a08c3d75-e938-4e02-ed10-489b9243341a"
      },
      "source": [
        "injection_parameters = dict(\n",
        "    chirp_mass=1.3, mass_ratio=0.9, chi_1=0.02, chi_2=0.03,\n",
        "    redshift=0.025, theta_jn=0.4, psi=2.659, phase=0, geocent_time=126,\n",
        "    ra=1.375, dec=-1.2108, lambda_1=500, lambda_2=600)\n",
        "\n",
        "duration = 512\n",
        "sampling_frequency = 2048\n",
        "minimum_frequency = 15\n",
        "\n",
        "waveform_arguments = dict(\n",
        "    reference_frequency=minimum_frequency, minimum_frequency=minimum_frequency)\n",
        "\n",
        "wfg = TF2WFG(\n",
        "    duration=duration, sampling_frequency=sampling_frequency,\n",
        "    waveform_arguments=waveform_arguments)\n",
        "\n",
        "injection_pols = wfg.frequency_domain_strain(injection_parameters)\n",
        "\n",
        "for key in injection_pols:\n",
        "    injection_pols[key] = xp.asnumpy(injection_pols[key])\n",
        "\n",
        "ifos = bilby.gw.detector.InterferometerList([\"H1\", \"L1\", \"V1\"])\n",
        "for ifo in ifos:\n",
        "    ifo.minimum_frequency = minimum_frequency\n",
        "ifos.set_strain_data_from_zero_noise(\n",
        "    duration=duration, sampling_frequency=sampling_frequency)\n",
        "_ = ifos.inject_signal(\n",
        "    injection_polarizations=injection_pols, parameters=injection_parameters)"
      ],
      "execution_count": 8,
      "outputs": [
        {
          "output_type": "stream",
          "text": [
            "05:26 bilby INFO    : Injected signal in H1:\n",
            "05:26 bilby INFO    :   optimal SNR = 22.46\n",
            "05:26 bilby INFO    :   matched filter SNR = 22.46+0.00j\n",
            "05:26 bilby INFO    :   chirp_mass = 1.3\n",
            "05:26 bilby INFO    :   mass_ratio = 0.9\n",
            "05:26 bilby INFO    :   chi_1 = 0.02\n",
            "05:26 bilby INFO    :   chi_2 = 0.03\n",
            "05:26 bilby INFO    :   redshift = 0.025\n",
            "05:26 bilby INFO    :   theta_jn = 0.4\n",
            "05:26 bilby INFO    :   psi = 2.659\n",
            "05:26 bilby INFO    :   phase = 0\n",
            "05:26 bilby INFO    :   geocent_time = 126\n",
            "05:26 bilby INFO    :   ra = 1.375\n",
            "05:26 bilby INFO    :   dec = -1.2108\n",
            "05:26 bilby INFO    :   lambda_1 = 500\n",
            "05:26 bilby INFO    :   lambda_2 = 600\n",
            "05:26 bilby INFO    : Injected signal in L1:\n",
            "05:26 bilby INFO    :   optimal SNR = 17.04\n",
            "05:26 bilby INFO    :   matched filter SNR = 17.04+0.00j\n",
            "05:26 bilby INFO    :   chirp_mass = 1.3\n",
            "05:26 bilby INFO    :   mass_ratio = 0.9\n",
            "05:26 bilby INFO    :   chi_1 = 0.02\n",
            "05:26 bilby INFO    :   chi_2 = 0.03\n",
            "05:26 bilby INFO    :   redshift = 0.025\n",
            "05:26 bilby INFO    :   theta_jn = 0.4\n",
            "05:26 bilby INFO    :   psi = 2.659\n",
            "05:26 bilby INFO    :   phase = 0\n",
            "05:26 bilby INFO    :   geocent_time = 126\n",
            "05:26 bilby INFO    :   ra = 1.375\n",
            "05:26 bilby INFO    :   dec = -1.2108\n",
            "05:26 bilby INFO    :   lambda_1 = 500\n",
            "05:26 bilby INFO    :   lambda_2 = 600\n",
            "05:26 bilby INFO    : Injected signal in V1:\n",
            "05:26 bilby INFO    :   optimal SNR = 13.35\n",
            "05:26 bilby INFO    :   matched filter SNR = 13.35+0.00j\n",
            "05:26 bilby INFO    :   chirp_mass = 1.3\n",
            "05:26 bilby INFO    :   mass_ratio = 0.9\n",
            "05:26 bilby INFO    :   chi_1 = 0.02\n",
            "05:26 bilby INFO    :   chi_2 = 0.03\n",
            "05:26 bilby INFO    :   redshift = 0.025\n",
            "05:26 bilby INFO    :   theta_jn = 0.4\n",
            "05:26 bilby INFO    :   psi = 2.659\n",
            "05:26 bilby INFO    :   phase = 0\n",
            "05:26 bilby INFO    :   geocent_time = 126\n",
            "05:26 bilby INFO    :   ra = 1.375\n",
            "05:26 bilby INFO    :   dec = -1.2108\n",
            "05:26 bilby INFO    :   lambda_1 = 500\n",
            "05:26 bilby INFO    :   lambda_2 = 600\n"
          ],
          "name": "stderr"
        }
      ]
    },
    {
      "cell_type": "markdown",
      "metadata": {
        "id": "hc9aPpaPFGoq",
        "colab_type": "text"
      },
      "source": [
        "# Prior\n",
        "\n",
        "Define the prior distribution we'll use.\n",
        "Here we'll start with the default `bilby` prior for analyzing  binary neutron star signals.\n",
        "\n",
        "We make a few changes to increase the efficiency of the sampling:\n",
        "- assume the sky location of the signal is known.\n",
        "This is reasonable for offline analysis of binary neutron star events when a host galaxy has been identified.\n",
        "- set a narrow gaussian prior on redshift, again assuming that the host galaxy has been identified.\n",
        "- specify a prior in chirp mass, $\\mathcal{M}$, and mass ratio rather than component masses.\n",
        "This is a much simpler space to sample than the narrow banana shaped posterior in the component mass posterior.\n",
        "- similarly, we sample in the two leading order tidal terms $\\tilde{\\Lambda}$ and $\\delta \\tilde{\\Lambda}$ for the same reason.\n",
        "- we then set prior constraints on the component masses and tidal deformabilities.\n",
        "\n",
        "None of these are essential to sample the space, however not using them will increase the run time to sample well.\n"
      ]
    },
    {
      "cell_type": "code",
      "metadata": {
        "id": "q9Q6rMcxpUtT",
        "colab_type": "code",
        "colab": {
          "base_uri": "https://localhost:8080/",
          "height": 98
        },
        "outputId": "24cf929c-a06e-42a8-a079-854437d85074"
      },
      "source": [
        "priors = bilby.gw.prior.BNSPriorDict()\n",
        "priors['ra'] = injection_parameters['ra']\n",
        "priors['dec'] = injection_parameters['dec']\n",
        "priors['redshift'] = bilby.core.prior.Gaussian(\n",
        "    mu=injection_parameters['redshift'],\n",
        "    sigma=injection_parameters['redshift'] / 10)\n",
        "del priors['luminosity_distance']\n",
        "\n",
        "priors['geocent_time'] = bilby.core.prior.Uniform(\n",
        "    minimum=125.99, maximum=126.01, latex_label='$t_{c}$',\n",
        "    boundary='reflective')\n",
        "\n",
        "priors['chirp_mass'] = bilby.core.prior.Uniform(\n",
        "    minimum=1.299, maximum=1.301, latex_label='$\\\\mathcal{M}$',\n",
        "    boundary='reflective')\n",
        "priors['mass_ratio'] = bilby.core.prior.Uniform(\n",
        "    minimum=0.5, maximum=1, latex_label='$q$', boundary='reflective')\n",
        "\n",
        "priors['lambda_tilde'] = bilby.core.prior.Uniform(\n",
        "    minimum=0, maximum=5000, latex_label='$\\\\tilde{\\\\Lambda}$',\n",
        "    boundary='reflective')\n",
        "priors['delta_lambda_tilde'] = bilby.core.prior.Uniform(\n",
        "    minimum=-5000, maximum=5000, latex_label='$\\\\delta\\\\tilde{\\\\Lambda}$',\n",
        "    boundary='reflective')\n",
        "\n",
        "priors['mass_1'] = bilby.core.prior.Constraint(minimum=1, maximum=3)\n",
        "priors['mass_2'] = bilby.core.prior.Constraint(minimum=1, maximum=3)\n",
        "priors['lambda_1'] = bilby.core.prior.Constraint(minimum=0, maximum=5000)\n",
        "priors['lambda_2'] = bilby.core.prior.Constraint(minimum=0, maximum=5000)"
      ],
      "execution_count": 12,
      "outputs": [
        {
          "output_type": "stream",
          "text": [
            "05:27 bilby INFO    : No prior given, using default BNS priors in /usr/local/lib/python3.6/dist-packages/bilby/gw/prior_files/binary_neutron_stars.prior.\n",
            "/usr/local/lib/python3.6/dist-packages/bilby/gw/prior.py:234: RuntimeWarning: divide by zero encountered in true_divide\n",
            "  z_prior.prob(x / aas)), aas) for x in xx]\n",
            "/usr/local/lib/python3.6/dist-packages/bilby/gw/prior.py:234: RuntimeWarning: invalid value encountered in multiply\n",
            "  z_prior.prob(x / aas)), aas) for x in xx]\n"
          ],
          "name": "stderr"
        }
      ]
    },
    {
      "cell_type": "markdown",
      "metadata": {
        "id": "yEDHmFgPZDYL",
        "colab_type": "text"
      },
      "source": [
        "# Define GPU likelihood\n",
        "\n",
        "Creating the likelihood works in the same way as defining the `bilby` `GravitationalWaveTransient` likelihood.\n",
        "\n",
        "Distance marginalisation in the likelihood has been implemented, we will not use it here."
      ]
    },
    {
      "cell_type": "code",
      "metadata": {
        "id": "uVSenv3lppWH",
        "colab_type": "code",
        "outputId": "8d3fd58e-2db2-45df-9a59-dc109360122d",
        "colab": {
          "base_uri": "https://localhost:8080/",
          "height": 33
        }
      },
      "source": [
        "like = CUPYGravitationalWaveTransient(\n",
        "    interferometers=ifos, waveform_generator=wfg, priors=priors,\n",
        "    distance_marginalization=False)\n",
        "\n",
        "like.parameters.update(injection_parameters)\n",
        "print(f\"The likelihood at the injected value is {}like.log_likelihood_ratio()\")"
      ],
      "execution_count": 13,
      "outputs": [
        {
          "output_type": "stream",
          "text": [
            "486.39425329303197\n"
          ],
          "name": "stdout"
        }
      ]
    },
    {
      "cell_type": "markdown",
      "metadata": {
        "id": "7rXMduBOZRxP",
        "colab_type": "text"
      },
      "source": [
        "# Run the sampler\n",
        "\n",
        "Here we run the sampler, these settings have been tuned so the run will take a few hours."
      ]
    },
    {
      "cell_type": "code",
      "metadata": {
        "id": "-pNYqxQURwfc",
        "colab_type": "code",
        "outputId": "bcdc1e7b-d88c-4398-eb94-3f8b69802504",
        "colab": {
          "base_uri": "https://localhost:8080/",
          "height": 687
        }
      },
      "source": [
        "result = bilby.run_sampler(\n",
        "    likelihood=like, priors=priors, sampler='dynesty', nlive=500,\n",
        "    walks=50, label=f\"cupy_tides_{minimum_frequency}\", use_ratio=True,\n",
        "    injection_parameters=injection_parameters)\n",
        "\n",
        "# result.injection_parameters = bilby.gw.conversion.generate_all_bns_parameters(\n",
        "#     injection_parameters)\n",
        "\n",
        "result.plot_corner()\n"
      ],
      "execution_count": 0,
      "outputs": [
        {
          "output_type": "stream",
          "text": [
            "05:27 bilby INFO    : Running for label 'cupy_tides_15', output will be saved to 'outdir'\n",
            "05:27 bilby INFO    : Performing redundancy check using BBHPriorDict(self).test_redundancy\n",
            "05:27 bilby INFO    : Performing redundancy check using BBHPriorDict(self).test_redundancy\n",
            "05:27 bilby INFO    : Performing redundancy check using BBHPriorDict(self).test_redundancy\n",
            "05:27 bilby INFO    : Performing redundancy check using BBHPriorDict(self).test_redundancy\n",
            "05:27 bilby INFO    : Performing redundancy check using BBHPriorDict(self).test_redundancy\n",
            "05:27 bilby INFO    : Performing redundancy check using BBHPriorDict(self).test_redundancy\n",
            "05:27 bilby INFO    : Performing redundancy check using BBHPriorDict(self).test_redundancy\n",
            "05:27 bilby INFO    : Performing redundancy check using BBHPriorDict(self).test_redundancy\n",
            "05:27 bilby INFO    : Performing redundancy check using BBHPriorDict(self).test_redundancy\n",
            "05:27 bilby INFO    : Performing redundancy check using BBHPriorDict(self).test_redundancy\n",
            "05:27 bilby INFO    : Performing redundancy check using BBHPriorDict(self).test_redundancy\n",
            "05:27 bilby INFO    : Performing redundancy check using BBHPriorDict(self).test_redundancy\n",
            "05:27 bilby INFO    : Performing redundancy check using BBHPriorDict(self).test_redundancy\n",
            "05:27 bilby INFO    : Performing redundancy check using BBHPriorDict(self).test_redundancy\n",
            "05:27 bilby INFO    : Performing redundancy check using BBHPriorDict(self).test_redundancy\n",
            "05:27 bilby INFO    : Performing redundancy check using BBHPriorDict(self).test_redundancy\n",
            "05:27 bilby INFO    : Performing redundancy check using BBHPriorDict(self).test_redundancy\n",
            "05:27 bilby INFO    : Search parameters:\n",
            "05:27 bilby INFO    :   mass_ratio = Uniform(minimum=0.5, maximum=1, name=None, latex_label='$q$', unit=None, boundary='reflective')\n",
            "05:27 bilby INFO    :   chi_1 = AlignedSpin(a_prior=Uniform(minimum=0, maximum=0.05, name=None, latex_label=None, unit=None, boundary=None), z_prior=Uniform(minimum=-1, maximum=1, name=None, latex_label=None, unit=None, boundary=None), name='chi_1', latex_label='$\\\\\\\\chi_1$', unit=None, boundary='reflective')\n",
            "05:27 bilby INFO    :   chi_2 = AlignedSpin(a_prior=Uniform(minimum=0, maximum=0.05, name=None, latex_label=None, unit=None, boundary=None), z_prior=Uniform(minimum=-1, maximum=1, name=None, latex_label=None, unit=None, boundary=None), name='chi_2', latex_label='$\\\\\\\\chi_2$', unit=None, boundary='reflective')\n",
            "05:27 bilby INFO    :   theta_jn = Sine(name='theta_jn', latex_label='$\\\\theta_{JN}$', unit=None, minimum=0, maximum=3.141592653589793, boundary='reflective')\n",
            "05:27 bilby INFO    :   psi = Uniform(minimum=0, maximum=3.141592653589793, name='psi', latex_label='$\\\\psi$', unit=None, boundary='periodic')\n",
            "05:27 bilby INFO    :   phase = Uniform(minimum=0, maximum=6.283185307179586, name='phase', latex_label='$\\\\phi$', unit=None, boundary='periodic')\n",
            "05:27 bilby INFO    :   redshift = Gaussian(mu=0.025, sigma=0.0025, name=None, latex_label=None, unit=None, boundary=None)\n",
            "05:27 bilby INFO    :   geocent_time = Uniform(minimum=125.99, maximum=126.01, name=None, latex_label='$t_{c}$', unit=None, boundary='reflective')\n",
            "05:27 bilby INFO    :   chirp_mass = Uniform(minimum=1.299, maximum=1.301, name=None, latex_label='$\\\\mathcal{M}$', unit=None, boundary='reflective')\n",
            "05:27 bilby INFO    :   lambda_tilde = Uniform(minimum=0, maximum=5000, name=None, latex_label='$\\\\tilde{\\\\Lambda}$', unit=None, boundary='reflective')\n",
            "05:27 bilby INFO    :   delta_lambda_tilde = Uniform(minimum=-5000, maximum=5000, name=None, latex_label='$\\\\delta\\\\tilde{\\\\Lambda}$', unit=None, boundary='reflective')\n",
            "05:27 bilby INFO    :   mass_1 = Constraint(minimum=1, maximum=3, name=None, latex_label=None, unit=None)\n",
            "05:27 bilby INFO    :   mass_2 = Constraint(minimum=1, maximum=3, name=None, latex_label=None, unit=None)\n",
            "05:27 bilby INFO    :   lambda_1 = Constraint(minimum=0, maximum=5000, name=None, latex_label=None, unit=None)\n",
            "05:27 bilby INFO    :   lambda_2 = Constraint(minimum=0, maximum=5000, name=None, latex_label=None, unit=None)\n",
            "05:27 bilby INFO    :   dec = -1.2108\n",
            "05:27 bilby INFO    :   ra = 1.375\n",
            "05:27 bilby INFO    : Single likelihood evaluation took 2.691e-03 s\n",
            "05:27 bilby INFO    : Using sampler Dynesty with kwargs {'bound': 'multi', 'sample': 'rwalk', 'verbose': True, 'periodic': None, 'check_point_delta_t': 600, 'nlive': 500, 'first_update': None, 'walks': 50, 'npdim': None, 'rstate': None, 'queue_size': None, 'pool': None, 'use_pool': None, 'live_points': None, 'logl_args': None, 'logl_kwargs': None, 'ptform_args': None, 'ptform_kwargs': None, 'enlarge': None, 'bootstrap': None, 'vol_dec': 0.5, 'vol_check': 2.0, 'facc': 0.5, 'slices': 5, 'update_interval': 300, 'print_func': <bound method Dynesty._print_func of <bilby.core.sampler.dynesty.Dynesty object at 0x7efcf8a5dcc0>>, 'dlogz': 0.1, 'maxiter': None, 'maxcall': None, 'logl_max': inf, 'add_live': True, 'print_progress': True, 'save_bounds': False}\n",
            "05:27 bilby INFO    : Checkpoint every n_check_point = 200000\n"
          ],
          "name": "stderr"
        },
        {
          "output_type": "stream",
          "text": [
            " 4238| logz ratio=325.126 +/-  0.207 | dlogz: 96.033 >  0.100"
          ],
          "name": "stdout"
        }
      ]
    }
  ]
}